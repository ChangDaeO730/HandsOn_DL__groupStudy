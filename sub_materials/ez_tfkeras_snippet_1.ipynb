{
 "cells": [
  {
   "cell_type": "markdown",
   "metadata": {},
   "source": [
    "### 1. sub classing API"
   ]
  },
  {
   "cell_type": "code",
   "execution_count": null,
   "metadata": {},
   "outputs": [],
   "source": [
    "from tensorflow.keras.models import Model\n",
    "from tensorflow.keras.layers import Conv2D, MaxPooling2D, Dense, GlobalAveragePooling2D\n",
    "from tensorflow.keras.utils import plot_model\n",
    "\n",
    "class MyModel(Model):\n",
    "    # 사용할 층 정의\n",
    "    def __init__(self):\n",
    "        super(MyModel, self).__init__()\n",
    "        \n",
    "        self.first_conv = Conv2D(32, (3, 3), activation = \"relu\")\n",
    "        self.second_conv = Conv2D(32, (3, 3), activation = \"relu\")\n",
    "        self.maxpool = MaxPooling2D(strides = 2)\n",
    "        \n",
    "        self.gap = GlobalAveragePooling2D()\n",
    "        self.dense = Dense(1, activation = \"sigmoid\")\n",
    "    \n",
    "    # forward pass 흐름 정의\n",
    "    def call(self, inputs):\n",
    "        x = self.first_conv(inputs)\n",
    "        x = self.second_conv(x)\n",
    "        x = self.maxpool(x)\n",
    "        \n",
    "        x = self.gap(x)\n",
    "        x = self.dense(x)\n",
    "        \n",
    "        return x\n",
    "    \n",
    "model = MyModel()"
   ]
  },
  {
   "cell_type": "markdown",
   "metadata": {},
   "source": [
    "### 2. multiple input/output with functional API"
   ]
  },
  {
   "cell_type": "code",
   "execution_count": 2,
   "metadata": {},
   "outputs": [
    {
     "name": "stdout",
     "output_type": "stream",
     "text": [
      "(1000, 28, 28, 1) (1000, 100)\n",
      "(1000,) (1000,)\n"
     ]
    }
   ],
   "source": [
    "# create virtual data\n",
    "import numpy as np\n",
    "\n",
    "input1_images = np.random.random((1000, 28, 28, 1))\n",
    "input2_reviews = np.random.randint(10000, size = (1000, 100)) \n",
    "\n",
    "output1_rate = np.round(np.random.random((1000,))*5, 1)\n",
    "output2_needed = np.random.randint(50, size = (1000,))\n",
    "\n",
    "print(input1_images.shape, input2_reviews.shape)\n",
    "print(output1_rate.shape, output2_needed.shape)"
   ]
  },
  {
   "cell_type": "code",
   "execution_count": 7,
   "metadata": {},
   "outputs": [],
   "source": [
    "# build multi-io model\n",
    "from tensorflow.keras.models import Model\n",
    "from tensorflow.keras.layers import Input, Conv2D, MaxPooling2D, GlobalAveragePooling2D\n",
    "from tensorflow.keras.layers import Embedding, LSTM\n",
    "from tensorflow.keras.layers import Dense, Concatenate\n",
    "\n",
    "# define two input\n",
    "img_input = Input(shape = (28, 28, 1), name = \"image\")\n",
    "review_input = Input(shape = (None, ), name = \"review\")\n",
    "\n",
    "# image processing\n",
    "x_1 = Conv2D(32, (3, 3), activation = 'relu')(img_input)\n",
    "x_1 = Conv2D(32, (3, 3), activation = 'relu')(x_1)\n",
    "x_1 = MaxPooling2D(strides = 2)(x_1)\n",
    "x_1 = GlobalAveragePooling2D()(x_1)\n",
    "\n",
    "# review processing\n",
    "x_2 = Embedding(10000, 64)(review_input)\n",
    "x_2 = LSTM(128)(x_2)\n",
    "\n",
    "# concat two input\n",
    "x = Concatenate()([x_1, x_2])\n",
    "\n",
    "# define two output\n",
    "rate_pred = Dense(1, name = 'rate')(x)\n",
    "needed_pred = Dense(50, activation = 'softmax', name = 'needed')(x)\n",
    "\n",
    "# create model\n",
    "model = Model(inputs = [img_input, review_input],\n",
    "             outputs = [rate_pred, needed_pred])"
   ]
  },
  {
   "cell_type": "code",
   "execution_count": 8,
   "metadata": {},
   "outputs": [
    {
     "data": {
      "image/png": "[encoded data removed]",
      "text/plain": [
       "<IPython.core.display.Image object>"
      ]
     },
     "execution_count": 8,
     "metadata": {},
     "output_type": "execute_result"
    }
   ],
   "source": [
    "plot_model(model)"
   ]
  },
  {
   "cell_type": "code",
   "execution_count": null,
   "metadata": {},
   "outputs": [],
   "source": [
    "# loss - output 층마다 적절한 형태의 loss function mapping\n",
    "model.compile(optimizer = 'adam', \n",
    "             loss = {'rate':'mse', 'needed':'sparse_categorical_crossentropy'}, \n",
    "             metrics = {'rate':'mse', 'needed':'acc'})\n",
    "\n",
    "# fit - 각 IO layer과 실제 다중입력데이터, 다중출력레이블들 각각을 딕셔너리 매핑으로 전달\n",
    "model.fit({'image':input1_images, 'review':input2_reviews}, \n",
    "          {'rate':output1_rate, 'update_for_hamburger':output2_needed},\n",
    "         epochs = 2, batch_size = 32)"
   ]
  },
  {
   "cell_type": "markdown",
   "metadata": {},
   "source": [
    "### 3. Residual Network"
   ]
  },
  {
   "cell_type": "code",
   "execution_count": 9,
   "metadata": {},
   "outputs": [],
   "source": [
    "from tensorflow.keras.layers import Conv2D, MaxPooling2D, Activation, Add\n",
    "from tensorflow.keras.layers import Input, GlobalAveragePooling2D, Dense\n",
    "from tensorflow.keras.models import Model\n",
    "\n",
    "# original resnet은 maxpooling 대신 stride 2 conv로 downsampling 수행\n",
    "def residual_block(inputs, num_channels, downsampling = False):\n",
    "    x = Conv2D(num_channels, (3, 3), activation = \"relu\",\n",
    "               padding = \"same\")(inputs)\n",
    "    x = Conv2D(num_channels, (3, 3), padding = \"same\")(x)\n",
    "    \n",
    "    # pooling에 의해 downsampling 진행될 경우 1*1 conv를 통해 input의 형태 조절\n",
    "    if downsampling:\n",
    "        x = MaxPooling2D(strides = 2)(x)\n",
    "        inputs = Conv2D(num_channels, (1, 1), strides = 2,\n",
    "                        padding = \"same\")(inputs)\n",
    "        \n",
    "    # 원본 입력과 변환된 입력을 더한다 (element-wise)\n",
    "    # broadcast 발생\n",
    "    add_x = Add()([inputs, x])\n",
    "    \n",
    "    return Activation(\"relu\")(add_x)\n",
    "\n",
    "\n",
    "inputs = Input(shape = (28, 28, 1))\n",
    "x = residual_block(inputs, 32, downsampling = True)\n",
    "x = residual_block(x, 32)\n",
    "x = residual_block(x, 32, downsampling = True)\n",
    "\n",
    "x = GlobalAveragePooling2D()(x)\n",
    "x = Dense(10, activation = \"softmax\")(x)\n",
    "\n",
    "model = Model(inputs = inputs, outputs = x)"
   ]
  },
  {
   "cell_type": "code",
   "execution_count": 11,
   "metadata": {},
   "outputs": [
    {
     "name": "stdout",
     "output_type": "stream",
     "text": [
      "Model: \"model_2\"\n",
      "__________________________________________________________________________________________________\n",
      "Layer (type)                    Output Shape         Param #     Connected to                     \n",
      "==================================================================================================\n",
      "input_1 (InputLayer)            [(None, 28, 28, 1)]  0                                            \n",
      "__________________________________________________________________________________________________\n",
      "conv2d_8 (Conv2D)               (None, 28, 28, 32)   320         input_1[0][0]                    \n",
      "__________________________________________________________________________________________________\n",
      "conv2d_9 (Conv2D)               (None, 28, 28, 32)   9248        conv2d_8[0][0]                   \n",
      "__________________________________________________________________________________________________\n",
      "conv2d_10 (Conv2D)              (None, 14, 14, 32)   64          input_1[0][0]                    \n",
      "__________________________________________________________________________________________________\n",
      "max_pooling2d_4 (MaxPooling2D)  (None, 14, 14, 32)   0           conv2d_9[0][0]                   \n",
      "__________________________________________________________________________________________________\n",
      "add (Add)                       (None, 14, 14, 32)   0           conv2d_10[0][0]                  \n",
      "                                                                 max_pooling2d_4[0][0]            \n",
      "__________________________________________________________________________________________________\n",
      "activation (Activation)         (None, 14, 14, 32)   0           add[0][0]                        \n",
      "__________________________________________________________________________________________________\n",
      "conv2d_11 (Conv2D)              (None, 14, 14, 32)   9248        activation[0][0]                 \n",
      "__________________________________________________________________________________________________\n",
      "conv2d_12 (Conv2D)              (None, 14, 14, 32)   9248        conv2d_11[0][0]                  \n",
      "__________________________________________________________________________________________________\n",
      "add_1 (Add)                     (None, 14, 14, 32)   0           activation[0][0]                 \n",
      "                                                                 conv2d_12[0][0]                  \n",
      "__________________________________________________________________________________________________\n",
      "activation_1 (Activation)       (None, 14, 14, 32)   0           add_1[0][0]                      \n",
      "__________________________________________________________________________________________________\n",
      "conv2d_13 (Conv2D)              (None, 14, 14, 32)   9248        activation_1[0][0]               \n",
      "__________________________________________________________________________________________________\n",
      "conv2d_14 (Conv2D)              (None, 14, 14, 32)   9248        conv2d_13[0][0]                  \n",
      "__________________________________________________________________________________________________\n",
      "conv2d_15 (Conv2D)              (None, 7, 7, 32)     1056        activation_1[0][0]               \n",
      "__________________________________________________________________________________________________\n",
      "max_pooling2d_5 (MaxPooling2D)  (None, 7, 7, 32)     0           conv2d_14[0][0]                  \n",
      "__________________________________________________________________________________________________\n",
      "add_2 (Add)                     (None, 7, 7, 32)     0           conv2d_15[0][0]                  \n",
      "                                                                 max_pooling2d_5[0][0]            \n",
      "__________________________________________________________________________________________________\n",
      "activation_2 (Activation)       (None, 7, 7, 32)     0           add_2[0][0]                      \n",
      "__________________________________________________________________________________________________\n",
      "global_average_pooling2d_4 (Glo (None, 32)           0           activation_2[0][0]               \n",
      "__________________________________________________________________________________________________\n",
      "dense (Dense)                   (None, 10)           330         global_average_pooling2d_4[0][0] \n",
      "==================================================================================================\n",
      "Total params: 48,010\n",
      "Trainable params: 48,010\n",
      "Non-trainable params: 0\n",
      "__________________________________________________________________________________________________\n"
     ]
    }
   ],
   "source": [
    "model.summary()"
   ]
  },
  {
   "cell_type": "markdown",
   "metadata": {},
   "source": [
    "### 4. inception module\n",
    "* use filters of various sizes -> capture various features\n",
    "* dimentionality reduction by 1by1 conv"
   ]
  },
  {
   "cell_type": "code",
   "execution_count": 1,
   "metadata": {},
   "outputs": [
    {
     "data": {
      "image/png": "[encoded data removed]",
      "text/plain": [
       "<IPython.core.display.Image object>"
      ]
     },
     "execution_count": 1,
     "metadata": {},
     "output_type": "execute_result"
    }
   ],
   "source": [
    "from tensorflow.keras.layers import Conv2D, MaxPooling2D, Activation, Concatenate\n",
    "from tensorflow.keras.layers import Input, GlobalAveragePooling2D, Dense\n",
    "from tensorflow.keras.models import Model\n",
    "\n",
    "def inception_module(x):\n",
    "    x_1 = Conv2D(32, (1,1), activation = \"relu\")(x)\n",
    "    \n",
    "    x_2 = Conv2D(48, (1,1), activation = \"relu\")(x)\n",
    "    x_2 = Conv2D(64, (3,3), activation = \"relu\", padding = \"same\")(x_2)\n",
    "    \n",
    "    x_3 = Conv2D(16, (1,1), activation = \"relu\")(x)\n",
    "    x_3 = Conv2D(16, (5,5), activation = \"relu\", padding = \"same\")(x_3)\n",
    "    \n",
    "    x_4 = MaxPooling2D(pool_size = (3, 3), strides = 1, padding = \"same\")(x)\n",
    "    x_4 = Conv2D(32, (1,1), activation = \"relu\")(x_4)\n",
    "    \n",
    "    output = Concatenate()([x_1, x_2, x_3, x_4])\n",
    "    \n",
    "    return output\n",
    "\n",
    "inputs = Input(shape = (224, 224, 3))\n",
    "x = inception_module(inputs)\n",
    "\n",
    "model = Model(inputs = inputs, outputs = x)\n",
    "\n",
    "\n",
    "\n",
    "from tensorflow.keras.utils import plot_model\n",
    "plot_model(model)"
   ]
  },
  {
   "cell_type": "code",
   "execution_count": 2,
   "metadata": {},
   "outputs": [
    {
     "name": "stdout",
     "output_type": "stream",
     "text": [
      "Model: \"model\"\n",
      "__________________________________________________________________________________________________\n",
      "Layer (type)                    Output Shape         Param #     Connected to                     \n",
      "==================================================================================================\n",
      "input_1 (InputLayer)            [(None, 224, 224, 3) 0                                            \n",
      "__________________________________________________________________________________________________\n",
      "conv2d_1 (Conv2D)               (None, 224, 224, 48) 192         input_1[0][0]                    \n",
      "__________________________________________________________________________________________________\n",
      "conv2d_3 (Conv2D)               (None, 224, 224, 16) 64          input_1[0][0]                    \n",
      "__________________________________________________________________________________________________\n",
      "max_pooling2d (MaxPooling2D)    (None, 224, 224, 3)  0           input_1[0][0]                    \n",
      "__________________________________________________________________________________________________\n",
      "conv2d (Conv2D)                 (None, 224, 224, 32) 128         input_1[0][0]                    \n",
      "__________________________________________________________________________________________________\n",
      "conv2d_2 (Conv2D)               (None, 224, 224, 64) 27712       conv2d_1[0][0]                   \n",
      "__________________________________________________________________________________________________\n",
      "conv2d_4 (Conv2D)               (None, 224, 224, 16) 6416        conv2d_3[0][0]                   \n",
      "__________________________________________________________________________________________________\n",
      "conv2d_5 (Conv2D)               (None, 224, 224, 32) 128         max_pooling2d[0][0]              \n",
      "__________________________________________________________________________________________________\n",
      "concatenate (Concatenate)       (None, 224, 224, 144 0           conv2d[0][0]                     \n",
      "                                                                 conv2d_2[0][0]                   \n",
      "                                                                 conv2d_4[0][0]                   \n",
      "                                                                 conv2d_5[0][0]                   \n",
      "==================================================================================================\n",
      "Total params: 34,640\n",
      "Trainable params: 34,640\n",
      "Non-trainable params: 0\n",
      "__________________________________________________________________________________________________\n"
     ]
    }
   ],
   "source": [
    "model.summary()"
   ]
  },
  {
   "cell_type": "markdown",
   "metadata": {},
   "source": [
    "### 5. transfer learning with tf hub & keras applications"
   ]
  },
  {
   "cell_type": "code",
   "execution_count": null,
   "metadata": {},
   "outputs": [],
   "source": [
    "# keras app\n",
    "from tensorflow.keras.applications import ResNet50, InceptionV3\n",
    "from tensorflow.keras.layers import GlobalAveragePooling2D, Dense\n",
    "from tensorflow.keras.models import Model\n",
    "\n",
    "def get_model(num_classes):\n",
    "    resnet = ResNet50(weights = \"imagenet\", include_top = False, \n",
    "                      input_shape = (32, 32, 3))\n",
    "    \n",
    "    # connect loaded model's output with task specific clf head \n",
    "    x = GlobalAveragePooling2D()(resnet.output)\n",
    "    x = Dense(num_classes, activation = \"softmax\")(x)\n",
    "    \n",
    "    # model build\n",
    "    model = Model(inputs = resnet.input, outputs = x)\n",
    "    return model\n",
    "    \n",
    "model = get_model(num_classes=10)\n",
    "model.compile(optimizer = 'adam', loss = 'sparse_categorical_crossentropy',\n",
    "              metrics = ['acc'])"
   ]
  },
  {
   "cell_type": "code",
   "execution_count": 3,
   "metadata": {},
   "outputs": [
    {
     "name": "stdout",
     "output_type": "stream",
     "text": [
      "(35000, 32, 32, 3) 35000\n",
      "(15000, 32, 32, 3) 15000\n",
      "1094/1094 [==============================] - 114s 97ms/step - loss: 2.3190 - acc: 0.1821 - val_loss: 2.2388 - val_acc: 0.2103\n"
     ]
    },
    {
     "data": {
      "text/plain": [
       "<tensorflow.python.keras.callbacks.History at 0x2e41a46f088>"
      ]
     },
     "execution_count": 3,
     "metadata": {},
     "output_type": "execute_result"
    }
   ],
   "source": [
    "# -------------------------------\n",
    "# tf hub\n",
    "# -------------------------------\n",
    "\n",
    "# data loading\n",
    "from tensorflow.keras.datasets import cifar10\n",
    "import numpy as np\n",
    "(x_train, y_train), (x_test, y_test) = cifar10.load_data()\n",
    "\n",
    "# channel wise standardization\n",
    "x_mean = np.mean(x_train, axis = (0, 1, 2))\n",
    "x_std = np.std(x_train, axis = (0, 1, 2))\n",
    "x_train = (x_train - x_mean) / x_std\n",
    "x_test = (x_test - x_mean) / x_std\n",
    "\n",
    "from sklearn.model_selection import train_test_split\n",
    "x_train, x_val, y_train, y_val = train_test_split(x_train, y_train, \n",
    "                                                  test_size = 0.3)\n",
    "print(x_train.shape, len(y_train))\n",
    "print(x_val.shape, len(y_val))\n",
    "\n",
    "img_shape = x_train.shape[1:]\n",
    "\n",
    "# use tf hub model\n",
    "import tensorflow_hub as hub\n",
    "\n",
    "# hub.KerasLayer : Wraps a SavedModel as a Keras Layer.\n",
    "model_url = \"https://tfhub.dev/google/efficientnet/b0/classification/1\"\n",
    "hub_layer = hub.KerasLayer(model_url, trainable = False, input_shape = img_shape)\n",
    "\n",
    "from tensorflow.keras.models import Sequential\n",
    "from tensorflow.keras.layers import GlobalAveragePooling2D, Dense\n",
    "\n",
    "model = Sequential([\n",
    "    hub_layer,\n",
    "    Dense(10, activation = 'softmax')])\n",
    "\n",
    "model.compile(loss = 'sparse_categorical_crossentropy',\n",
    "              metrics = ['acc'],\n",
    "              optimizer = 'adam')\n",
    "\n",
    "# model.build((None, ) + img_shape)\n",
    "\n",
    "model.fit(x_train, y_train, epochs = 1,\n",
    "          batch_size = 32, validation_data = (x_val, y_val))"
   ]
  }
 ],
 "metadata": {
  "kernelspec": {
   "display_name": "Python 3",
   "language": "python",
   "name": "python3"
  },
  "language_info": {
   "codemirror_mode": {
    "name": "ipython",
    "version": 3
   },
   "file_extension": ".py",
   "mimetype": "text/x-python",
   "name": "python",
   "nbconvert_exporter": "python",
   "pygments_lexer": "ipython3",
   "version": "3.7.7"
  }
 },
 "nbformat": 4,
 "nbformat_minor": 4
}
